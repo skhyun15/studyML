{
 "cells": [
  {
   "cell_type": "code",
   "execution_count": 6,
   "metadata": {},
   "outputs": [],
   "source": [
    "%matplotlib inline\n",
    "import numpy as np # 넘파이 사용\n",
    "import matplotlib.pyplot as plt # 맷플롯립사용"
   ]
  },
  {
   "cell_type": "code",
   "execution_count": 7,
   "metadata": {},
   "outputs": [],
   "source": [
    "def sigmoid(x): # 시그모이드 함수 정의\n",
    "    return 1/(1+np.exp(-x))"
   ]
  },
  {
   "cell_type": "code",
   "execution_count": 8,
   "metadata": {},
   "outputs": [
    {
     "data": {
      "image/png": "[encoded data removed]",
      "text/plain": [
       "<Figure size 432x288 with 1 Axes>"
      ]
     },
     "metadata": {
      "needs_background": "light"
     },
     "output_type": "display_data"
    }
   ],
   "source": [
    "x = np.arange(-5.0, 5.0, 0.1)\n",
    "y = sigmoid(x)\n",
    "\n",
    "plt.plot(x, y, 'g')\n",
    "plt.plot([0,0],[1.0,0.0], ':') # 가운데 점선 추가\n",
    "plt.title('Sigmoid Function')\n",
    "plt.show()"
   ]
  },
  {
   "cell_type": "code",
   "execution_count": 10,
   "metadata": {},
   "outputs": [],
   "source": [
    "import torch\n",
    "import torch.nn as nn\n",
    "import torch.nn.functional as F\n",
    "import torch.optim as optim"
   ]
  },
  {
   "cell_type": "code",
   "execution_count": 11,
   "metadata": {},
   "outputs": [
    {
     "data": {
      "text/plain": [
       "<torch._C.Generator at 0x2959ca00810>"
      ]
     },
     "execution_count": 11,
     "metadata": {},
     "output_type": "execute_result"
    }
   ],
   "source": [
    "torch.manual_seed(1)"
   ]
  },
  {
   "cell_type": "code",
   "execution_count": 12,
   "metadata": {},
   "outputs": [],
   "source": [
    "x_data = [[1, 2], [2, 3], [3, 1], [4, 3], [5, 3], [6, 2]]\n",
    "y_data = [[0], [0], [0], [1], [1], [1]]\n",
    "x_train = torch.FloatTensor(x_data)\n",
    "y_train = torch.FloatTensor(y_data)"
   ]
  },
  {
   "cell_type": "code",
   "execution_count": 13,
   "metadata": {},
   "outputs": [],
   "source": [
    "W = torch.zeros((2, 1), requires_grad=True) # 크기는 2 x 1\n",
    "b = torch.zeros(1, requires_grad=True)"
   ]
  },
  {
   "cell_type": "code",
   "execution_count": 17,
   "metadata": {},
   "outputs": [
    {
     "data": {
      "text/plain": [
       "tensor([[0.5000],\n",
       "        [0.5000],\n",
       "        [0.5000],\n",
       "        [0.5000],\n",
       "        [0.5000],\n",
       "        [0.5000]], grad_fn=<SigmoidBackward0>)"
      ]
     },
     "execution_count": 17,
     "metadata": {},
     "output_type": "execute_result"
    }
   ],
   "source": [
    "# hypothesis = 1 / (1 + torch.exp(-(x_train.matmul(W) + b)))\n",
    "hypothesis = torch.sigmoid(x_train.matmul(W) + b)\n",
    "hypothesis\n"
   ]
  },
  {
   "cell_type": "code",
   "execution_count": 18,
   "metadata": {},
   "outputs": [
    {
     "data": {
      "text/plain": [
       "tensor(0.6931, grad_fn=<BinaryCrossEntropyBackward0>)"
      ]
     },
     "execution_count": 18,
     "metadata": {},
     "output_type": "execute_result"
    }
   ],
   "source": [
    "F.binary_cross_entropy(hypothesis, y_train)"
   ]
  },
  {
   "cell_type": "code",
   "execution_count": 19,
   "metadata": {},
   "outputs": [
    {
     "name": "stdout",
     "output_type": "stream",
     "text": [
      "Epoch    0/1000 Cost: 0.693147\n",
      "Epoch  100/1000 Cost: 0.134722\n",
      "Epoch  200/1000 Cost: 0.080643\n",
      "Epoch  300/1000 Cost: 0.057900\n",
      "Epoch  400/1000 Cost: 0.045300\n",
      "Epoch  500/1000 Cost: 0.037261\n",
      "Epoch  600/1000 Cost: 0.031673\n",
      "Epoch  700/1000 Cost: 0.027556\n",
      "Epoch  800/1000 Cost: 0.024394\n",
      "Epoch  900/1000 Cost: 0.021888\n",
      "Epoch 1000/1000 Cost: 0.019852\n"
     ]
    }
   ],
   "source": [
    "optimizer = optim.SGD([W, b], lr=1)\n",
    "\n",
    "\n",
    "nb_epochs = 1000\n",
    "for epoch in range(nb_epochs + 1):\n",
    "\n",
    "    # Cost 계산\n",
    "    hypothesis = torch.sigmoid(x_train.matmul(W) + b)\n",
    "    cost = -(y_train * torch.log(hypothesis) + \n",
    "             (1 - y_train) * torch.log(1 - hypothesis)).mean()\n",
    "\n",
    "    # cost로 H(x) 개선\n",
    "    optimizer.zero_grad()\n",
    "    cost.backward()\n",
    "    optimizer.step()\n",
    "\n",
    "    # 100번마다 로그 출력\n",
    "    if epoch % 100 == 0:\n",
    "        print('Epoch {:4d}/{} Cost: {:.6f}'.format(\n",
    "            epoch, nb_epochs, cost.item()\n",
    "        ))"
   ]
  },
  {
   "cell_type": "code",
   "execution_count": 20,
   "metadata": {},
   "outputs": [
    {
     "data": {
      "text/plain": [
       "tensor([[False],\n",
       "        [False],\n",
       "        [False],\n",
       "        [ True],\n",
       "        [ True],\n",
       "        [ True]])"
      ]
     },
     "execution_count": 20,
     "metadata": {},
     "output_type": "execute_result"
    }
   ],
   "source": [
    "prediction = hypothesis >= 0.5\n",
    "prediction"
   ]
  },
  {
   "cell_type": "code",
   "execution_count": 32,
   "metadata": {},
   "outputs": [],
   "source": [
    "#로지스틱 회귀\n",
    "model = nn.Sequential(\n",
    "    nn.Linear(2, 1), \n",
    "    nn.Sigmoid()\n",
    "    )\n"
   ]
  },
  {
   "cell_type": "code",
   "execution_count": 29,
   "metadata": {},
   "outputs": [
    {
     "data": {
      "text/plain": [
       "tensor([[0.5843],\n",
       "        [0.6107],\n",
       "        [0.4928],\n",
       "        [0.5688],\n",
       "        [0.5474],\n",
       "        [0.4769]], grad_fn=<SigmoidBackward0>)"
      ]
     },
     "execution_count": 29,
     "metadata": {},
     "output_type": "execute_result"
    }
   ],
   "source": [
    "model(x_train)"
   ]
  },
  {
   "cell_type": "code",
   "execution_count": 34,
   "metadata": {},
   "outputs": [],
   "source": [
    "class BinaryClassifier(nn.Module):\n",
    "    def __init__(self):\n",
    "        super().__init__()\n",
    "        self.linear = nn.Linear(2, 1)\n",
    "        self.sigmoid = nn.Sigmoid()\n",
    "    \n",
    "    def forward(self, x):\n",
    "        return self.sigmoid(self.linear(x))"
   ]
  },
  {
   "cell_type": "code",
   "execution_count": 35,
   "metadata": {},
   "outputs": [
    {
     "name": "stdout",
     "output_type": "stream",
     "text": [
      "Epoch    0/1000 Cost: 0.841201 Accuracy 50.00%\n",
      "Epoch   10/1000 Cost: 0.457889 Accuracy 66.67%\n",
      "Epoch   20/1000 Cost: 0.423259 Accuracy 83.33%\n",
      "Epoch   30/1000 Cost: 0.355104 Accuracy 83.33%\n",
      "Epoch   40/1000 Cost: 0.300464 Accuracy 83.33%\n",
      "Epoch   50/1000 Cost: 0.251668 Accuracy 83.33%\n",
      "Epoch   60/1000 Cost: 0.207725 Accuracy 100.00%\n",
      "Epoch   70/1000 Cost: 0.172860 Accuracy 100.00%\n",
      "Epoch   80/1000 Cost: 0.152507 Accuracy 100.00%\n",
      "Epoch   90/1000 Cost: 0.140916 Accuracy 100.00%\n",
      "Epoch  100/1000 Cost: 0.131552 Accuracy 100.00%\n",
      "Epoch  110/1000 Cost: 0.123386 Accuracy 100.00%\n",
      "Epoch  120/1000 Cost: 0.116192 Accuracy 100.00%\n",
      "Epoch  130/1000 Cost: 0.109807 Accuracy 100.00%\n",
      "Epoch  140/1000 Cost: 0.104101 Accuracy 100.00%\n",
      "Epoch  150/1000 Cost: 0.098972 Accuracy 100.00%\n",
      "Epoch  160/1000 Cost: 0.094335 Accuracy 100.00%\n",
      "Epoch  170/1000 Cost: 0.090124 Accuracy 100.00%\n",
      "Epoch  180/1000 Cost: 0.086282 Accuracy 100.00%\n",
      "Epoch  190/1000 Cost: 0.082762 Accuracy 100.00%\n",
      "Epoch  200/1000 Cost: 0.079525 Accuracy 100.00%\n",
      "Epoch  210/1000 Cost: 0.076538 Accuracy 100.00%\n",
      "Epoch  220/1000 Cost: 0.073772 Accuracy 100.00%\n",
      "Epoch  230/1000 Cost: 0.071204 Accuracy 100.00%\n",
      "Epoch  240/1000 Cost: 0.068814 Accuracy 100.00%\n",
      "Epoch  250/1000 Cost: 0.066582 Accuracy 100.00%\n",
      "Epoch  260/1000 Cost: 0.064495 Accuracy 100.00%\n",
      "Epoch  270/1000 Cost: 0.062537 Accuracy 100.00%\n",
      "Epoch  280/1000 Cost: 0.060697 Accuracy 100.00%\n",
      "Epoch  290/1000 Cost: 0.058965 Accuracy 100.00%\n",
      "Epoch  300/1000 Cost: 0.057331 Accuracy 100.00%\n",
      "Epoch  310/1000 Cost: 0.055787 Accuracy 100.00%\n",
      "Epoch  320/1000 Cost: 0.054327 Accuracy 100.00%\n",
      "Epoch  330/1000 Cost: 0.052942 Accuracy 100.00%\n",
      "Epoch  340/1000 Cost: 0.051627 Accuracy 100.00%\n",
      "Epoch  350/1000 Cost: 0.050378 Accuracy 100.00%\n",
      "Epoch  360/1000 Cost: 0.049189 Accuracy 100.00%\n",
      "Epoch  370/1000 Cost: 0.048056 Accuracy 100.00%\n",
      "Epoch  380/1000 Cost: 0.046974 Accuracy 100.00%\n",
      "Epoch  390/1000 Cost: 0.045942 Accuracy 100.00%\n",
      "Epoch  400/1000 Cost: 0.044954 Accuracy 100.00%\n",
      "Epoch  410/1000 Cost: 0.044009 Accuracy 100.00%\n",
      "Epoch  420/1000 Cost: 0.043104 Accuracy 100.00%\n",
      "Epoch  430/1000 Cost: 0.042236 Accuracy 100.00%\n",
      "Epoch  440/1000 Cost: 0.041402 Accuracy 100.00%\n",
      "Epoch  450/1000 Cost: 0.040602 Accuracy 100.00%\n",
      "Epoch  460/1000 Cost: 0.039832 Accuracy 100.00%\n",
      "Epoch  470/1000 Cost: 0.039091 Accuracy 100.00%\n",
      "Epoch  480/1000 Cost: 0.038378 Accuracy 100.00%\n",
      "Epoch  490/1000 Cost: 0.037691 Accuracy 100.00%\n",
      "Epoch  500/1000 Cost: 0.037029 Accuracy 100.00%\n",
      "Epoch  510/1000 Cost: 0.036389 Accuracy 100.00%\n",
      "Epoch  520/1000 Cost: 0.035772 Accuracy 100.00%\n",
      "Epoch  530/1000 Cost: 0.035176 Accuracy 100.00%\n",
      "Epoch  540/1000 Cost: 0.034599 Accuracy 100.00%\n",
      "Epoch  550/1000 Cost: 0.034041 Accuracy 100.00%\n",
      "Epoch  560/1000 Cost: 0.033501 Accuracy 100.00%\n",
      "Epoch  570/1000 Cost: 0.032979 Accuracy 100.00%\n",
      "Epoch  580/1000 Cost: 0.032472 Accuracy 100.00%\n",
      "Epoch  590/1000 Cost: 0.031981 Accuracy 100.00%\n",
      "Epoch  600/1000 Cost: 0.031505 Accuracy 100.00%\n",
      "Epoch  610/1000 Cost: 0.031043 Accuracy 100.00%\n",
      "Epoch  620/1000 Cost: 0.030595 Accuracy 100.00%\n",
      "Epoch  630/1000 Cost: 0.030159 Accuracy 100.00%\n",
      "Epoch  640/1000 Cost: 0.029736 Accuracy 100.00%\n",
      "Epoch  650/1000 Cost: 0.029325 Accuracy 100.00%\n",
      "Epoch  660/1000 Cost: 0.028925 Accuracy 100.00%\n",
      "Epoch  670/1000 Cost: 0.028536 Accuracy 100.00%\n",
      "Epoch  680/1000 Cost: 0.028157 Accuracy 100.00%\n",
      "Epoch  690/1000 Cost: 0.027789 Accuracy 100.00%\n",
      "Epoch  700/1000 Cost: 0.027430 Accuracy 100.00%\n",
      "Epoch  710/1000 Cost: 0.027080 Accuracy 100.00%\n",
      "Epoch  720/1000 Cost: 0.026739 Accuracy 100.00%\n",
      "Epoch  730/1000 Cost: 0.026407 Accuracy 100.00%\n",
      "Epoch  740/1000 Cost: 0.026083 Accuracy 100.00%\n",
      "Epoch  750/1000 Cost: 0.025767 Accuracy 100.00%\n",
      "Epoch  760/1000 Cost: 0.025458 Accuracy 100.00%\n",
      "Epoch  770/1000 Cost: 0.025157 Accuracy 100.00%\n",
      "Epoch  780/1000 Cost: 0.024863 Accuracy 100.00%\n",
      "Epoch  790/1000 Cost: 0.024576 Accuracy 100.00%\n",
      "Epoch  800/1000 Cost: 0.024296 Accuracy 100.00%\n",
      "Epoch  810/1000 Cost: 0.024021 Accuracy 100.00%\n",
      "Epoch  820/1000 Cost: 0.023753 Accuracy 100.00%\n",
      "Epoch  830/1000 Cost: 0.023491 Accuracy 100.00%\n",
      "Epoch  840/1000 Cost: 0.023235 Accuracy 100.00%\n",
      "Epoch  850/1000 Cost: 0.022985 Accuracy 100.00%\n",
      "Epoch  860/1000 Cost: 0.022739 Accuracy 100.00%\n",
      "Epoch  870/1000 Cost: 0.022499 Accuracy 100.00%\n",
      "Epoch  880/1000 Cost: 0.022264 Accuracy 100.00%\n",
      "Epoch  890/1000 Cost: 0.022034 Accuracy 100.00%\n",
      "Epoch  900/1000 Cost: 0.021809 Accuracy 100.00%\n",
      "Epoch  910/1000 Cost: 0.021588 Accuracy 100.00%\n",
      "Epoch  920/1000 Cost: 0.021372 Accuracy 100.00%\n",
      "Epoch  930/1000 Cost: 0.021160 Accuracy 100.00%\n",
      "Epoch  940/1000 Cost: 0.020952 Accuracy 100.00%\n",
      "Epoch  950/1000 Cost: 0.020748 Accuracy 100.00%\n",
      "Epoch  960/1000 Cost: 0.020549 Accuracy 100.00%\n",
      "Epoch  970/1000 Cost: 0.020353 Accuracy 100.00%\n",
      "Epoch  980/1000 Cost: 0.020160 Accuracy 100.00%\n",
      "Epoch  990/1000 Cost: 0.019972 Accuracy 100.00%\n",
      "Epoch 1000/1000 Cost: 0.019787 Accuracy 100.00%\n"
     ]
    }
   ],
   "source": [
    "model = BinaryClassifier()\n",
    "\n",
    "# optimizer 설정\n",
    "optimizer = optim.SGD(model.parameters(), lr=1)\n",
    "\n",
    "nb_epochs = 1000\n",
    "for epoch in range(nb_epochs + 1):\n",
    "\n",
    "    # H(x) 계산\n",
    "    hypothesis = model(x_train)\n",
    "\n",
    "    # cost 계산\n",
    "    cost = F.binary_cross_entropy(hypothesis, y_train)\n",
    "\n",
    "    # cost로 H(x) 개선\n",
    "    optimizer.zero_grad()\n",
    "    cost.backward()\n",
    "    optimizer.step()\n",
    "\n",
    "    # 20번마다 로그 출력\n",
    "    if epoch % 10 == 0:\n",
    "        prediction = hypothesis >= torch.FloatTensor([0.5]) # 예측값이 0.5를 넘으면 True로 간주\n",
    "        correct_prediction = prediction.float() == y_train # 실제값과 일치하는 경우만 True로 간주\n",
    "        accuracy = correct_prediction.sum().item() / len(correct_prediction) # 정확도를 계산\n",
    "        print('Epoch {:4d}/{} Cost: {:.6f} Accuracy {:2.2f}%'.format( # 각 에포크마다 정확도를 출력\n",
    "            epoch, nb_epochs, cost.item(), accuracy * 100,\n",
    "        ))"
   ]
  },
  {
   "cell_type": "code",
   "execution_count": null,
   "metadata": {},
   "outputs": [],
   "source": []
  }
 ],
 "metadata": {
  "kernelspec": {
   "display_name": "Python 3.9.7 ('pytorch')",
   "language": "python",
   "name": "python3"
  },
  "language_info": {
   "codemirror_mode": {
    "name": "ipython",
    "version": 3
   },
   "file_extension": ".py",
   "mimetype": "text/x-python",
   "name": "python",
   "nbconvert_exporter": "python",
   "pygments_lexer": "ipython3",
   "version": "3.9.7"
  },
  "vscode": {
   "interpreter": {
    "hash": "240bc028caeb8b02ff80d8aedfc61caf7a0e4db2770780d40c5b717508bae340"
   }
  }
 },
 "nbformat": 4,
 "nbformat_minor": 2
}
