{
 "cells": [
  {
   "cell_type": "code",
   "execution_count": 34,
   "metadata": {},
   "outputs": [],
   "source": [
    "import torch\n",
    "import torchvision.datasets as dsets\n",
    "import torchvision.transforms as transforms\n",
    "from torch.utils.data import DataLoader\n",
    "import torch.nn as nn \n",
    "import matplotlib.pyplot as plt\n",
    "import random"
   ]
  },
  {
   "cell_type": "code",
   "execution_count": 35,
   "metadata": {},
   "outputs": [
    {
     "name": "stdout",
     "output_type": "stream",
     "text": [
      "다음 기기로 학습합니다: cuda\n"
     ]
    }
   ],
   "source": [
    "USE_CUDA = torch.cuda.is_available()\n",
    "device = torch.device(\"cuda\" if USE_CUDA else \"cpu\") # GPU 사용 가능하면 사용하고 아니면 CPU 사용\n",
    "# device = torch.device('cpu')\n",
    "print(\"다음 기기로 학습합니다:\", device)"
   ]
  },
  {
   "cell_type": "code",
   "execution_count": 36,
   "metadata": {},
   "outputs": [],
   "source": [
    "random.seed(777)\n",
    "torch.manual_seed(777)\n",
    "if device == 'cuda':\n",
    "    torch.cuda.manual_seed_all(777)"
   ]
  },
  {
   "cell_type": "code",
   "execution_count": 37,
   "metadata": {},
   "outputs": [],
   "source": [
    "training_epochs = 15\n",
    "batch_size = 100"
   ]
  },
  {
   "cell_type": "code",
   "execution_count": 38,
   "metadata": {},
   "outputs": [],
   "source": [
    "mnist_train = dsets.MNIST(root='MNIST_data/',\n",
    "                          train=True,\n",
    "                          transform=transforms.ToTensor(),\n",
    "                          download=True)\n",
    "mnist_test = dsets.MNIST(root='MNIST_data/',\n",
    "                          train=False,\n",
    "                          transform=transforms.ToTensor(),\n",
    "                          download=True)"
   ]
  },
  {
   "cell_type": "code",
   "execution_count": 39,
   "metadata": {},
   "outputs": [],
   "source": [
    "data_loader = DataLoader(dataset=mnist_train,\n",
    "                         batch_size=batch_size,\n",
    "                         shuffle=True,\n",
    "                         drop_last=True)"
   ]
  },
  {
   "cell_type": "code",
   "execution_count": 40,
   "metadata": {},
   "outputs": [],
   "source": [
    "linear = nn.Linear(784, 10, bias=True).to(device)"
   ]
  },
  {
   "cell_type": "code",
   "execution_count": 41,
   "metadata": {},
   "outputs": [],
   "source": [
    "criterion = nn.CrossEntropyLoss().to(device)\n",
    "optimizer = torch.optim.SGD(linear.parameters(), lr=0.1)"
   ]
  },
  {
   "cell_type": "code",
   "execution_count": 42,
   "metadata": {},
   "outputs": [
    {
     "name": "stdout",
     "output_type": "stream",
     "text": [
      "Epoch: 0001 cost = 0.535146713\n",
      "Epoch: 0002 cost = 0.359576792\n",
      "Epoch: 0003 cost = 0.331263006\n",
      "Epoch: 0004 cost = 0.316403985\n",
      "Epoch: 0005 cost = 0.307106525\n",
      "Epoch: 0006 cost = 0.300456434\n",
      "Epoch: 0007 cost = 0.294932842\n",
      "Epoch: 0008 cost = 0.290955842\n",
      "Epoch: 0009 cost = 0.287074119\n",
      "Epoch: 0010 cost = 0.284515619\n",
      "Epoch: 0011 cost = 0.281915396\n",
      "Epoch: 0012 cost = 0.279526889\n",
      "Epoch: 0013 cost = 0.277636290\n",
      "Epoch: 0014 cost = 0.275875181\n",
      "Epoch: 0015 cost = 0.274422675\n",
      "Epoch: 0016 cost = 0.270917982\n",
      "Epoch: 0017 cost = 0.270578980\n",
      "Epoch: 0018 cost = 0.270430654\n",
      "Epoch: 0019 cost = 0.270341098\n",
      "Epoch: 0020 cost = 0.270284593\n",
      "Epoch: 0021 cost = 0.270243347\n",
      "Epoch: 0022 cost = 0.270206839\n",
      "Epoch: 0023 cost = 0.270176500\n",
      "Epoch: 0024 cost = 0.270149976\n",
      "Epoch: 0025 cost = 0.270124674\n",
      "Epoch: 0026 cost = 0.270103127\n",
      "Epoch: 0027 cost = 0.270082384\n",
      "Epoch: 0028 cost = 0.270058244\n",
      "Epoch: 0029 cost = 0.270040691\n",
      "Epoch: 0030 cost = 0.270021200\n",
      "Epoch: 0031 cost = 0.270003349\n",
      "Epoch: 0032 cost = 0.269985735\n",
      "Epoch: 0033 cost = 0.269965917\n",
      "Epoch: 0034 cost = 0.269949615\n",
      "Epoch: 0035 cost = 0.269931138\n",
      "Epoch: 0036 cost = 0.269915104\n",
      "Epoch: 0037 cost = 0.269897491\n",
      "Epoch: 0038 cost = 0.269880891\n",
      "Epoch: 0039 cost = 0.269864857\n",
      "Epoch: 0040 cost = 0.269849986\n",
      "Epoch: 0041 cost = 0.269835472\n",
      "Epoch: 0042 cost = 0.269816309\n",
      "Epoch: 0043 cost = 0.269799620\n",
      "Epoch: 0044 cost = 0.269784808\n",
      "Epoch: 0045 cost = 0.269768775\n",
      "Epoch: 0046 cost = 0.269752800\n",
      "Epoch: 0047 cost = 0.269738555\n",
      "Epoch: 0048 cost = 0.269721329\n",
      "Epoch: 0049 cost = 0.269708633\n",
      "Epoch: 0050 cost = 0.269692808\n",
      "Epoch: 0051 cost = 0.269679099\n",
      "Epoch: 0052 cost = 0.269662023\n",
      "Epoch: 0053 cost = 0.269645661\n",
      "Epoch: 0054 cost = 0.269633383\n",
      "Epoch: 0055 cost = 0.269618720\n",
      "Epoch: 0056 cost = 0.269605339\n",
      "Epoch: 0057 cost = 0.269590586\n",
      "Epoch: 0058 cost = 0.269574374\n",
      "Epoch: 0059 cost = 0.269559562\n",
      "Epoch: 0060 cost = 0.269547105\n",
      "Epoch: 0061 cost = 0.269532502\n",
      "Epoch: 0062 cost = 0.269518703\n",
      "Epoch: 0063 cost = 0.269501984\n",
      "Epoch: 0064 cost = 0.269487888\n",
      "Epoch: 0065 cost = 0.269473970\n",
      "Epoch: 0066 cost = 0.269463062\n",
      "Epoch: 0067 cost = 0.269447178\n",
      "Epoch: 0068 cost = 0.269432992\n",
      "Epoch: 0069 cost = 0.269417256\n",
      "Epoch: 0070 cost = 0.269405186\n",
      "Epoch: 0071 cost = 0.269390404\n",
      "Epoch: 0072 cost = 0.269377649\n",
      "Epoch: 0073 cost = 0.269364119\n",
      "Epoch: 0074 cost = 0.269350886\n",
      "Epoch: 0075 cost = 0.269336313\n",
      "Epoch: 0076 cost = 0.269321710\n",
      "Epoch: 0077 cost = 0.269308060\n",
      "Epoch: 0078 cost = 0.269295633\n",
      "Epoch: 0079 cost = 0.269280076\n",
      "Epoch: 0080 cost = 0.269265622\n",
      "Epoch: 0081 cost = 0.269253820\n",
      "Epoch: 0082 cost = 0.269239813\n",
      "Epoch: 0083 cost = 0.269226700\n",
      "Epoch: 0084 cost = 0.269212991\n",
      "Epoch: 0085 cost = 0.269199640\n",
      "Epoch: 0086 cost = 0.269185007\n",
      "Epoch: 0087 cost = 0.269171119\n",
      "Epoch: 0088 cost = 0.269159049\n",
      "Epoch: 0089 cost = 0.269144803\n",
      "Epoch: 0090 cost = 0.269133627\n",
      "Epoch: 0091 cost = 0.269118577\n",
      "Epoch: 0092 cost = 0.269104451\n",
      "Epoch: 0093 cost = 0.269093156\n",
      "Epoch: 0094 cost = 0.269077450\n",
      "Epoch: 0095 cost = 0.269064337\n",
      "Epoch: 0096 cost = 0.269050390\n",
      "Epoch: 0097 cost = 0.269038081\n",
      "Epoch: 0098 cost = 0.269024402\n",
      "Epoch: 0099 cost = 0.269010842\n",
      "Epoch: 0100 cost = 0.268998086\n",
      "Learning finished\n"
     ]
    }
   ],
   "source": [
    "for epoch in range(training_epochs): # 앞서 training_epochs의 값은 15로 지정함.\n",
    "    avg_cost = 0\n",
    "    total_batch = len(data_loader)\n",
    "    \n",
    "\n",
    "    for X, Y in data_loader:\n",
    "        # 배치 크기가 100이므로 아래의 연산에서 X는 (100, 784)의 텐서가 된다.\n",
    "        X = X.view(-1, 28 * 28).to(device)\n",
    "        # 레이블은 원-핫 인코딩이 된 상태가 아니라 0 ~ 9의 정수.\n",
    "        Y = Y.to(device)\n",
    "        \n",
    "\n",
    "        optimizer.zero_grad()\n",
    "        hypothesis = linear(X)\n",
    "        cost = criterion(hypothesis, Y)\n",
    "        cost.backward()\n",
    "        optimizer.step()\n",
    "\n",
    "        avg_cost += cost / total_batch\n",
    "\n",
    "    print('Epoch:', '%04d' % (epoch + 1), 'cost =', '{:.9f}'.format(avg_cost))\n",
    "\n",
    "print('Learning finished')"
   ]
  },
  {
   "cell_type": "code",
   "execution_count": 47,
   "metadata": {},
   "outputs": [
    {
     "name": "stdout",
     "output_type": "stream",
     "text": [
      "Accuracy: 0.8851000070571899\n",
      "Label:  4\n",
      "Prediction:  4\n"
     ]
    },
    {
     "data": {
      "image/png": "[encoded data removed]",
      "text/plain": [
       "<Figure size 432x288 with 1 Axes>"
      ]
     },
     "metadata": {
      "needs_background": "light"
     },
     "output_type": "display_data"
    }
   ],
   "source": [
    "# 테스트 데이터를 사용하여 모델을 테스트한다.\n",
    "with torch.no_grad(): # torch.no_grad()를 하면 gradient 계산을 수행하지 않는다.\n",
    "    X_test = mnist_test.test_data.view(-1, 28 * 28).float().to(device)\n",
    "    Y_test = mnist_test.test_labels.to(device)\n",
    "    prediction = linear(X_test)\n",
    "    correct_prediction = torch.argmax(prediction, 1) == Y_test\n",
    "    accuracy = correct_prediction.float().mean()\n",
    "    print('Accuracy:', accuracy.item())\n",
    "\n",
    "    # MNIST 테스트 데이터에서 무작위로 하나를 뽑아서 예측을 해본다\n",
    "    r = 121\n",
    "    X_single_data = mnist_test.test_data[r:r + 1].view(-1, 28 * 28).float().to(device)\n",
    "    Y_single_data = mnist_test.test_labels[r:r + 1].to(device)\n",
    "\n",
    "    print('Label: ', Y_single_data.item())\n",
    "    single_prediction = linear(X_single_data)\n",
    "    print('Prediction: ', torch.argmax(single_prediction, 1).item())\n",
    "\n",
    "    plt.imshow(mnist_test.test_data[r:r + 1].view(28, 28), cmap='Greys', interpolation='nearest')\n",
    "    plt.show()"
   ]
  }
 ],
 "metadata": {
  "kernelspec": {
   "display_name": "Python 3.9.7 ('pytorch')",
   "language": "python",
   "name": "python3"
  },
  "language_info": {
   "codemirror_mode": {
    "name": "ipython",
    "version": 3
   },
   "file_extension": ".py",
   "mimetype": "text/x-python",
   "name": "python",
   "nbconvert_exporter": "python",
   "pygments_lexer": "ipython3",
   "version": "3.9.7"
  },
  "orig_nbformat": 4,
  "vscode": {
   "interpreter": {
    "hash": "240bc028caeb8b02ff80d8aedfc61caf7a0e4db2770780d40c5b717508bae340"
   }
  }
 },
 "nbformat": 4,
 "nbformat_minor": 2
}
